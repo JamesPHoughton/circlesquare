{
 "cells": [
  {
   "cell_type": "code",
   "execution_count": 1,
   "metadata": {
    "collapsed": false
   },
   "outputs": [
    {
     "name": "stdout",
     "output_type": "stream",
     "text": [
      "Populating the interactive namespace from numpy and matplotlib\n"
     ]
    }
   ],
   "source": [
    "%pylab inline\n",
    "import pandas as pd\n",
    "from copy import deepcopy as copy\n",
    "import scipy.optimize\n",
    "from scipy import stats\n",
    "import multiprocessing"
   ]
  },
  {
   "cell_type": "markdown",
   "metadata": {},
   "source": [
    "Use data through: 30th June 2012?\n",
    "\n",
    "Chrome v1.0–v12.0, Firefox v1.0–v5.0, IE v4.0–v9.0, and Safari v1.0–v5.0.6"
   ]
  },
  {
   "cell_type": "code",
   "execution_count": 2,
   "metadata": {
    "collapsed": true
   },
   "outputs": [],
   "source": [
    "obs_samples = pd.read_pickle('_!obs_samples!_.pickle')"
   ]
  },
  {
   "cell_type": "markdown",
   "metadata": {},
   "source": [
    "## Replicate the massacci nguyen test on polynomial models"
   ]
  },
  {
   "cell_type": "code",
   "execution_count": 3,
   "metadata": {
    "collapsed": true
   },
   "outputs": [],
   "source": [
    "def fit(row, error_func, guess, bounds):\n",
    "    \"\"\"\n",
    "    Parameters\n",
    "    ----------\n",
    "    error : function\n",
    "    \"\"\"\n",
    "    data = row.dropna()\n",
    "    \n",
    "    def func(paramlist, data):\n",
    "        return error_func(paramlist, data)[0]\n",
    "    \n",
    "    res = scipy.optimize.minimize(fun=func, \n",
    "                                  x0=guess,\n",
    "                                  method='L-BFGS-B',\n",
    "                                  bounds=bounds,\n",
    "                                  args=(data), \n",
    "                                  options={'maxiter':100})\n",
    "    \n",
    "    return pd.Series(error_func(res['x'],data), index=['chi2','pval'])"
   ]
  },
  {
   "cell_type": "code",
   "execution_count": 7,
   "metadata": {
    "collapsed": false
   },
   "outputs": [
    {
     "data": {
      "text/plain": [
       "(73.670889127244152, 1.761548245709698e-14)"
      ]
     },
     "execution_count": 7,
     "metadata": {},
     "output_type": "execute_result"
    }
   ],
   "source": [
    "def model_LN(t, paramlist):\n",
    "    \"\"\" Linear (LN) \"\"\"\n",
    "    A, B = paramlist\n",
    "    return A*t + B\n",
    "\n",
    "def model_RE(t, paramlist):\n",
    "    \"\"\"Rescorla Exponential (RE)\"\"\"\n",
    "    B_0, B_1 = paramlist\n",
    "    return B_0*log(1+B_1*t)\n",
    "\n",
    "def error(paramlist, data, func=model_RE):\n",
    "    data.dropna(inplace=True)\n",
    "    output = [func(t, paramlist) for t in data.index]\n",
    "    chi2 = stats.chisquare(data.values[1:], output[1:])\n",
    "    return chi2.statistic, chi2.pvalue\n",
    "\n",
    "error([1,2], obs_samples.iloc[0])\n"
   ]
  },
  {
   "cell_type": "code",
   "execution_count": 8,
   "metadata": {
    "collapsed": false
   },
   "outputs": [
    {
     "data": {
      "text/plain": [
       "chi2    1.079400\n",
       "pval    0.955911\n",
       "dtype: float64"
      ]
     },
     "execution_count": 8,
     "metadata": {},
     "output_type": "execute_result"
    }
   ],
   "source": [
    "res = fit(obs_samples.iloc[0], error, [1,2], [(1e-6,1e6),(1e-6,1e6)])\n",
    "res"
   ]
  },
  {
   "cell_type": "code",
   "execution_count": 9,
   "metadata": {
    "collapsed": false
   },
   "outputs": [
    {
     "name": "stdout",
     "output_type": "stream",
     "text": [
      "(5281, 2)\n"
     ]
    },
    {
     "data": {
      "text/html": [
       "<div>\n",
       "<table border=\"1\" class=\"dataframe\">\n",
       "  <thead>\n",
       "    <tr style=\"text-align: right;\">\n",
       "      <th></th>\n",
       "      <th></th>\n",
       "      <th></th>\n",
       "      <th></th>\n",
       "      <th>chi2</th>\n",
       "      <th>pval</th>\n",
       "    </tr>\n",
       "    <tr>\n",
       "      <th>DS</th>\n",
       "      <th>product</th>\n",
       "      <th>version</th>\n",
       "      <th>tseries</th>\n",
       "      <th></th>\n",
       "      <th></th>\n",
       "    </tr>\n",
       "  </thead>\n",
       "  <tbody>\n",
       "    <tr>\n",
       "      <th rowspan=\"5\" valign=\"top\">NVD</th>\n",
       "      <th rowspan=\"5\" valign=\"top\">chrome</th>\n",
       "      <th rowspan=\"5\" valign=\"top\">1</th>\n",
       "      <th>6</th>\n",
       "      <td>1.078982</td>\n",
       "      <td>9.559472e-01</td>\n",
       "    </tr>\n",
       "    <tr>\n",
       "      <th>7</th>\n",
       "      <td>42.056609</td>\n",
       "      <td>1.792048e-07</td>\n",
       "    </tr>\n",
       "    <tr>\n",
       "      <th>8</th>\n",
       "      <td>279.026159</td>\n",
       "      <td>1.811325e-56</td>\n",
       "    </tr>\n",
       "    <tr>\n",
       "      <th>9</th>\n",
       "      <td>54.766209</td>\n",
       "      <td>4.901729e-09</td>\n",
       "    </tr>\n",
       "    <tr>\n",
       "      <th>10</th>\n",
       "      <td>18.401116</td>\n",
       "      <td>3.079498e-02</td>\n",
       "    </tr>\n",
       "  </tbody>\n",
       "</table>\n",
       "</div>"
      ],
      "text/plain": [
       "                                   chi2          pval\n",
       "DS  product version tseries                          \n",
       "NVD chrome  1       6          1.078982  9.559472e-01\n",
       "                    7         42.056609  1.792048e-07\n",
       "                    8        279.026159  1.811325e-56\n",
       "                    9         54.766209  4.901729e-09\n",
       "                    10        18.401116  3.079498e-02"
      ]
     },
     "execution_count": 9,
     "metadata": {},
     "output_type": "execute_result"
    }
   ],
   "source": [
    "a = obs_samples[:] \n",
    "res = a.apply(fit, axis=1, error_func=error,\n",
    "              guess=[1,1], bounds=[(-1e6,1e6),(-1e6,1e6)])\n",
    "print res.shape\n",
    "res.head()"
   ]
  },
  {
   "cell_type": "code",
   "execution_count": 10,
   "metadata": {
    "collapsed": false
   },
   "outputs": [
    {
     "data": {
      "text/plain": [
       "<matplotlib.axes._subplots.AxesSubplot at 0x10caad150>"
      ]
     },
     "execution_count": 10,
     "metadata": {},
     "output_type": "execute_result"
    },
    {
     "data": {
      "image/png": "[encoded data removed]",
      "text/plain": [
       "<matplotlib.figure.Figure at 0x10caadc90>"
      ]
     },
     "metadata": {},
     "output_type": "display_data"
    }
   ],
   "source": [
    "res['pval'].plot(linewidth=0, marker='.')"
   ]
  },
  {
   "cell_type": "code",
   "execution_count": 11,
   "metadata": {
    "collapsed": false
   },
   "outputs": [
    {
     "data": {
      "image/png": "[encoded data removed]",
      "text/plain": [
       "<matplotlib.figure.Figure at 0x10cabe810>"
      ]
     },
     "metadata": {},
     "output_type": "display_data"
    }
   ],
   "source": [
    "plt.hist(res['pval'], bins=40);"
   ]
  },
  {
   "cell_type": "code",
   "execution_count": 15,
   "metadata": {
    "collapsed": false
   },
   "outputs": [
    {
     "data": {
      "text/plain": [
       "0.18632834690399547"
      ]
     },
     "execution_count": 15,
     "metadata": {},
     "output_type": "execute_result"
    }
   ],
   "source": [
    "1.*((res['pval']>.8).sum()+/len(res)"
   ]
  },
  {
   "cell_type": "code",
   "execution_count": 17,
   "metadata": {
    "collapsed": false
   },
   "outputs": [
    {
     "data": {
      "text/plain": [
       "0.19466010225336111"
      ]
     },
     "execution_count": 17,
     "metadata": {},
     "output_type": "execute_result"
    }
   ],
   "source": [
    "w = .5\n",
    "Good = (res['pval']>.8).sum()\n",
    "Inconclusive = (res['pval']>.2).sum() - Good\n",
    "All = (res['pval']>-1).sum()\n",
    "\n",
    "Q = (Good + .5*Inconclusive)/All\n",
    "Q"
   ]
  },
  {
   "cell_type": "markdown",
   "metadata": {
    "collapsed": false
   },
   "source": [
    "## Perform MN test on Circle Square model"
   ]
  },
  {
   "cell_type": "code",
   "execution_count": 132,
   "metadata": {
    "collapsed": true
   },
   "outputs": [],
   "source": [
    "\n",
    "import circlesquare"
   ]
  },
  {
   "cell_type": "code",
   "execution_count": null,
   "metadata": {
    "collapsed": false
   },
   "outputs": [],
   "source": [
    "def error(paramlist, data, iterations=1):\n",
    "    \"\"\"\n",
    "    Runs the model with a specified set of parameters, and compares the\n",
    "    error between the data set and the model output\n",
    "    \n",
    "    Parameters\n",
    "    ----------\n",
    "    paramlist : list of floats\n",
    "        Parameter values for the model in array format, with elements:\n",
    "        \n",
    "        0. num_vulns: integer\n",
    "                the number of vulnerabilities to include in the model\n",
    "        \n",
    "        1. max_area: float (0,1)\n",
    "                the maximum likelihood that a vulnerability will be discovered\n",
    "                \n",
    "        2. burn_in : integer\n",
    "                How many rounds of hardening to conduct before the timeseries starts?\n",
    "                The burn-in period essentially allows the vulnerability distribution\n",
    "                to approach that which we expect before release - that easy vulns \n",
    "                have been mostly found, and that harder ones remain.\n",
    "        \n",
    "        This is an array because the optimization routine\n",
    "        expects to deal with things in this way.\n",
    "        \n",
    "    data : pandas Series\n",
    "        Timeseries data to compare with the model output \n",
    "    \n",
    "    iterations : integer (optional, default=1)\n",
    "        How many times to run the simulation, averaging the error.\n",
    "        This is desirable because the model is stochastic, and \n",
    "        multiple runs will give slightly different timeseries.\n",
    "    \n",
    "    Returns\n",
    "    -------\n",
    "    sse : float\n",
    "        The sum of the squared error between the model runs and the data\n",
    "        provided. Cumulative across all iterations.\n",
    "    \n",
    "    \"\"\"\n",
    "    sse = 0\n",
    "    for _ in range(iterations):\n",
    "        output = circlesquare.runner(num_vulns=paramlist[0],\n",
    "                                     max_area=paramlist[1],\n",
    "                                     tseries=data.index,\n",
    "                                     burn_in=paramlist[2])\n",
    "        errors = data - output\n",
    "        sse += sum(errors**2)\n",
    "    return sse\n",
    "\n",
    "def fit(row):\n",
    "    data = row.dropna()\n",
    "    data\n",
    "    \n",
    "    res = scipy.optimize.minimize(error, [1000,.01,0],\n",
    "                        method='L-BFGS-B',\n",
    "                        bounds=[(0,1000),(0,1),(0,50)],\n",
    "                        args=(data, 1), \n",
    "                        options={'maxiter':100})\n",
    "    \n",
    "    return res #pd.Series(index=['dec_%i_loss_rate'%i for i in range(1,10)], data=res['x'])"
   ]
  },
  {
   "cell_type": "code",
   "execution_count": 145,
   "metadata": {
    "collapsed": false
   },
   "outputs": [
    {
     "name": "stdout",
     "output_type": "stream",
     "text": [
      "1 loops, best of 3: 8min 4s per loop\n"
     ]
    },
    {
     "data": {
      "text/plain": [
       "0"
      ]
     },
     "execution_count": 145,
     "metadata": {},
     "output_type": "execute_result"
    }
   ],
   "source": [
    "res = fit(Bug_cumulative.iloc[0])"
   ]
  },
  {
   "cell_type": "code",
   "execution_count": 162,
   "metadata": {
    "collapsed": false
   },
   "outputs": [
    {
     "data": {
      "text/html": [
       "<div>\n",
       "<table border=\"1\" class=\"dataframe\">\n",
       "  <thead>\n",
       "    <tr style=\"text-align: right;\">\n",
       "      <th></th>\n",
       "      <th></th>\n",
       "      <th>0</th>\n",
       "      <th>1</th>\n",
       "      <th>2</th>\n",
       "      <th>3</th>\n",
       "      <th>4</th>\n",
       "      <th>5</th>\n",
       "      <th>6</th>\n",
       "      <th>7</th>\n",
       "      <th>8</th>\n",
       "      <th>9</th>\n",
       "      <th>...</th>\n",
       "      <th>108</th>\n",
       "      <th>109</th>\n",
       "      <th>110</th>\n",
       "      <th>111</th>\n",
       "      <th>112</th>\n",
       "      <th>113</th>\n",
       "      <th>114</th>\n",
       "      <th>115</th>\n",
       "      <th>116</th>\n",
       "      <th>117</th>\n",
       "    </tr>\n",
       "    <tr>\n",
       "      <th>product</th>\n",
       "      <th>version</th>\n",
       "      <th></th>\n",
       "      <th></th>\n",
       "      <th></th>\n",
       "      <th></th>\n",
       "      <th></th>\n",
       "      <th></th>\n",
       "      <th></th>\n",
       "      <th></th>\n",
       "      <th></th>\n",
       "      <th></th>\n",
       "      <th></th>\n",
       "      <th></th>\n",
       "      <th></th>\n",
       "      <th></th>\n",
       "      <th></th>\n",
       "      <th></th>\n",
       "      <th></th>\n",
       "      <th></th>\n",
       "      <th></th>\n",
       "      <th></th>\n",
       "      <th></th>\n",
       "    </tr>\n",
       "  </thead>\n",
       "  <tbody>\n",
       "    <tr>\n",
       "      <th rowspan=\"4\" valign=\"top\">chrome</th>\n",
       "      <th>1</th>\n",
       "      <td>NaN</td>\n",
       "      <td>NaN</td>\n",
       "      <td>NaN</td>\n",
       "      <td>NaN</td>\n",
       "      <td>NaN</td>\n",
       "      <td>NaN</td>\n",
       "      <td>NaN</td>\n",
       "      <td>NaN</td>\n",
       "      <td>NaN</td>\n",
       "      <td>NaN</td>\n",
       "      <td>...</td>\n",
       "      <td>NaN</td>\n",
       "      <td>NaN</td>\n",
       "      <td>NaN</td>\n",
       "      <td>NaN</td>\n",
       "      <td>NaN</td>\n",
       "      <td>NaN</td>\n",
       "      <td>NaN</td>\n",
       "      <td>NaN</td>\n",
       "      <td>NaN</td>\n",
       "      <td>NaN</td>\n",
       "    </tr>\n",
       "    <tr>\n",
       "      <th>2</th>\n",
       "      <td>NaN</td>\n",
       "      <td>NaN</td>\n",
       "      <td>NaN</td>\n",
       "      <td>NaN</td>\n",
       "      <td>NaN</td>\n",
       "      <td>NaN</td>\n",
       "      <td>NaN</td>\n",
       "      <td>NaN</td>\n",
       "      <td>NaN</td>\n",
       "      <td>NaN</td>\n",
       "      <td>...</td>\n",
       "      <td>NaN</td>\n",
       "      <td>NaN</td>\n",
       "      <td>NaN</td>\n",
       "      <td>NaN</td>\n",
       "      <td>NaN</td>\n",
       "      <td>NaN</td>\n",
       "      <td>NaN</td>\n",
       "      <td>NaN</td>\n",
       "      <td>NaN</td>\n",
       "      <td>NaN</td>\n",
       "    </tr>\n",
       "    <tr>\n",
       "      <th>3</th>\n",
       "      <td>NaN</td>\n",
       "      <td>NaN</td>\n",
       "      <td>NaN</td>\n",
       "      <td>NaN</td>\n",
       "      <td>NaN</td>\n",
       "      <td>NaN</td>\n",
       "      <td>NaN</td>\n",
       "      <td>NaN</td>\n",
       "      <td>NaN</td>\n",
       "      <td>NaN</td>\n",
       "      <td>...</td>\n",
       "      <td>NaN</td>\n",
       "      <td>NaN</td>\n",
       "      <td>NaN</td>\n",
       "      <td>NaN</td>\n",
       "      <td>NaN</td>\n",
       "      <td>NaN</td>\n",
       "      <td>NaN</td>\n",
       "      <td>NaN</td>\n",
       "      <td>NaN</td>\n",
       "      <td>NaN</td>\n",
       "    </tr>\n",
       "    <tr>\n",
       "      <th>4</th>\n",
       "      <td>NaN</td>\n",
       "      <td>NaN</td>\n",
       "      <td>NaN</td>\n",
       "      <td>NaN</td>\n",
       "      <td>NaN</td>\n",
       "      <td>NaN</td>\n",
       "      <td>NaN</td>\n",
       "      <td>NaN</td>\n",
       "      <td>NaN</td>\n",
       "      <td>NaN</td>\n",
       "      <td>...</td>\n",
       "      <td>NaN</td>\n",
       "      <td>NaN</td>\n",
       "      <td>NaN</td>\n",
       "      <td>NaN</td>\n",
       "      <td>NaN</td>\n",
       "      <td>NaN</td>\n",
       "      <td>NaN</td>\n",
       "      <td>NaN</td>\n",
       "      <td>NaN</td>\n",
       "      <td>NaN</td>\n",
       "    </tr>\n",
       "  </tbody>\n",
       "</table>\n",
       "<p>4 rows × 118 columns</p>\n",
       "</div>"
      ],
      "text/plain": [
       "                 0    1    2    3    4    5    6    7    8    9   ...   108  \\\n",
       "product version                                                   ...         \n",
       "chrome  1        NaN  NaN  NaN  NaN  NaN  NaN  NaN  NaN  NaN  NaN ...   NaN   \n",
       "        2        NaN  NaN  NaN  NaN  NaN  NaN  NaN  NaN  NaN  NaN ...   NaN   \n",
       "        3        NaN  NaN  NaN  NaN  NaN  NaN  NaN  NaN  NaN  NaN ...   NaN   \n",
       "        4        NaN  NaN  NaN  NaN  NaN  NaN  NaN  NaN  NaN  NaN ...   NaN   \n",
       "\n",
       "                 109  110  111  112  113  114  115  116  117  \n",
       "product version                                               \n",
       "chrome  1        NaN  NaN  NaN  NaN  NaN  NaN  NaN  NaN  NaN  \n",
       "        2        NaN  NaN  NaN  NaN  NaN  NaN  NaN  NaN  NaN  \n",
       "        3        NaN  NaN  NaN  NaN  NaN  NaN  NaN  NaN  NaN  \n",
       "        4        NaN  NaN  NaN  NaN  NaN  NaN  NaN  NaN  NaN  \n",
       "\n",
       "[4 rows x 118 columns]"
      ]
     },
     "execution_count": 162,
     "metadata": {},
     "output_type": "execute_result"
    }
   ],
   "source": [
    "_apply_df([Bug_cumulative[:4], fit, {'axis':1}])"
   ]
  },
  {
   "cell_type": "code",
   "execution_count": 155,
   "metadata": {
    "collapsed": false
   },
   "outputs": [
    {
     "name": "stdout",
     "output_type": "stream",
     "text": [
      "> \u001b[0;32m/Users/houghton/Google_Drive/MIT_Research/Cyber Security/Circle_Square_Model/circlesquare/circlesquare.py\u001b[0m(477)\u001b[0;36mrunner\u001b[0;34m()\u001b[0m\n",
      "\u001b[0;32m    476 \u001b[0;31m    \u001b[0;32mfor\u001b[0m \u001b[0mt_1\u001b[0m \u001b[0;32min\u001b[0m \u001b[0mtseries\u001b[0m\u001b[0;34m:\u001b[0m\u001b[0;34m\u001b[0m\u001b[0m\n",
      "\u001b[0m\u001b[0;32m--> 477 \u001b[0;31m        \u001b[0mseeker\u001b[0m\u001b[0;34m.\u001b[0m\u001b[0mharden\u001b[0m\u001b[0;34m(\u001b[0m\u001b[0mt_1\u001b[0m\u001b[0;34m-\u001b[0m\u001b[0mt_0\u001b[0m\u001b[0;34m)\u001b[0m\u001b[0;34m\u001b[0m\u001b[0m\n",
      "\u001b[0m\u001b[0;32m    478 \u001b[0;31m        round_counts.append({'round':model.rounds_hardened, \n",
      "\u001b[0m\n",
      "ipdb> t_1\n",
      "('chrome', 1)\n",
      "ipdb> tseries\n",
      "MultiIndex(levels=[[u'chrome', u'ff'], [1, 2, 3, 4, 5, 6, 7, 8, 9, 10, 11, 12, 13, 14, 15, 16, 17, 18, 19, 20, 21, 22, 23, 24, 25]],\n",
      "           labels=[[0, 0, 0, 0], [0, 1, 2, 3]],\n",
      "           names=[u'product', u'version'])\n",
      "ipdb> tseries.index\n",
      "*** AttributeError: 'MultiIndex' object has no attribute 'index'\n",
      "ipdb> tseries.values\n",
      "array([('chrome', 1), ('chrome', 2), ('chrome', 3), ('chrome', 4)], dtype=object)\n",
      "ipdb> tseries.columns\n",
      "*** AttributeError: 'MultiIndex' object has no attribute 'columns'\n",
      "\n",
      "KeyboardInterrupt\n"
     ]
    }
   ],
   "source": [
    "%debug"
   ]
  },
  {
   "cell_type": "code",
   "execution_count": 161,
   "metadata": {
    "collapsed": false
   },
   "outputs": [],
   "source": [
    "def _apply_df(args):\n",
    "    df, func, kwargs = args\n",
    "    return df.apply(func, **kwargs)\n",
    "\n",
    "def apply_by_multiprocessing(df, func, workers, **kwargs):\n",
    "    pool = multiprocessing.Pool(processes=workers)\n",
    "    result = pool.map(_apply_df, [(d, func, kwargs) for d in np.array_split(df, workers)])\n",
    "    pool.close()\n",
    "    return pd.concat(list(result))\n",
    "\n",
    "#res = apply_by_multiprocessing(Bug_cumulative[:4], fit, workers=4, axis=1)"
   ]
  },
  {
   "cell_type": "code",
   "execution_count": 148,
   "metadata": {
    "collapsed": false
   },
   "outputs": [
    {
     "name": "stdout",
     "output_type": "stream",
     "text": [
      "> \u001b[0;32m/Users/houghton/anaconda/lib/python2.7/multiprocessing/pool.py\u001b[0m(567)\u001b[0;36mget\u001b[0;34m()\u001b[0m\n",
      "\u001b[0;32m    566 \u001b[0;31m        \u001b[0;32melse\u001b[0m\u001b[0;34m:\u001b[0m\u001b[0;34m\u001b[0m\u001b[0m\n",
      "\u001b[0m\u001b[0;32m--> 567 \u001b[0;31m            \u001b[0;32mraise\u001b[0m \u001b[0mself\u001b[0m\u001b[0;34m.\u001b[0m\u001b[0m_value\u001b[0m\u001b[0;34m\u001b[0m\u001b[0m\n",
      "\u001b[0m\u001b[0;32m    568 \u001b[0;31m\u001b[0;34m\u001b[0m\u001b[0m\n",
      "\u001b[0m\n",
      "ipdb> u\n",
      "> \u001b[0;32m/Users/houghton/anaconda/lib/python2.7/multiprocessing/pool.py\u001b[0m(251)\u001b[0;36mmap\u001b[0;34m()\u001b[0m\n",
      "\u001b[0;32m    250 \u001b[0;31m        \u001b[0;32massert\u001b[0m \u001b[0mself\u001b[0m\u001b[0;34m.\u001b[0m\u001b[0m_state\u001b[0m \u001b[0;34m==\u001b[0m \u001b[0mRUN\u001b[0m\u001b[0;34m\u001b[0m\u001b[0m\n",
      "\u001b[0m\u001b[0;32m--> 251 \u001b[0;31m        \u001b[0;32mreturn\u001b[0m \u001b[0mself\u001b[0m\u001b[0;34m.\u001b[0m\u001b[0mmap_async\u001b[0m\u001b[0;34m(\u001b[0m\u001b[0mfunc\u001b[0m\u001b[0;34m,\u001b[0m \u001b[0miterable\u001b[0m\u001b[0;34m,\u001b[0m \u001b[0mchunksize\u001b[0m\u001b[0;34m)\u001b[0m\u001b[0;34m.\u001b[0m\u001b[0mget\u001b[0m\u001b[0;34m(\u001b[0m\u001b[0;34m)\u001b[0m\u001b[0;34m\u001b[0m\u001b[0m\n",
      "\u001b[0m\u001b[0;32m    252 \u001b[0;31m\u001b[0;34m\u001b[0m\u001b[0m\n",
      "\u001b[0m\n",
      "ipdb> u\n",
      "> \u001b[0;32m<ipython-input-147-66874e751aee>\u001b[0m(7)\u001b[0;36mapply_by_multiprocessing\u001b[0;34m()\u001b[0m\n",
      "\u001b[0;32m      6 \u001b[0;31m    \u001b[0mpool\u001b[0m \u001b[0;34m=\u001b[0m \u001b[0mmultiprocessing\u001b[0m\u001b[0;34m.\u001b[0m\u001b[0mPool\u001b[0m\u001b[0;34m(\u001b[0m\u001b[0mprocesses\u001b[0m\u001b[0;34m=\u001b[0m\u001b[0mworkers\u001b[0m\u001b[0;34m)\u001b[0m\u001b[0;34m\u001b[0m\u001b[0m\n",
      "\u001b[0m\u001b[0;32m----> 7 \u001b[0;31m    \u001b[0mresult\u001b[0m \u001b[0;34m=\u001b[0m \u001b[0mpool\u001b[0m\u001b[0;34m.\u001b[0m\u001b[0mmap\u001b[0m\u001b[0;34m(\u001b[0m\u001b[0m_apply_df\u001b[0m\u001b[0;34m,\u001b[0m \u001b[0;34m[\u001b[0m\u001b[0;34m(\u001b[0m\u001b[0md\u001b[0m\u001b[0;34m,\u001b[0m \u001b[0mfunc\u001b[0m\u001b[0;34m,\u001b[0m \u001b[0mkwargs\u001b[0m\u001b[0;34m)\u001b[0m \u001b[0;32mfor\u001b[0m \u001b[0md\u001b[0m \u001b[0;32min\u001b[0m \u001b[0mnp\u001b[0m\u001b[0;34m.\u001b[0m\u001b[0marray_split\u001b[0m\u001b[0;34m(\u001b[0m\u001b[0mdf\u001b[0m\u001b[0;34m,\u001b[0m \u001b[0mworkers\u001b[0m\u001b[0;34m)\u001b[0m\u001b[0;34m]\u001b[0m\u001b[0;34m)\u001b[0m\u001b[0;34m\u001b[0m\u001b[0m\n",
      "\u001b[0m\u001b[0;32m      8 \u001b[0;31m    \u001b[0mpool\u001b[0m\u001b[0;34m.\u001b[0m\u001b[0mclose\u001b[0m\u001b[0;34m(\u001b[0m\u001b[0;34m)\u001b[0m\u001b[0;34m\u001b[0m\u001b[0m\n",
      "\u001b[0m\n",
      "\n",
      "KeyboardInterrupt\n"
     ]
    }
   ],
   "source": [
    "%debug"
   ]
  },
  {
   "cell_type": "code",
   "execution_count": null,
   "metadata": {
    "collapsed": true
   },
   "outputs": [],
   "source": []
  }
 ],
 "metadata": {
  "kernelspec": {
   "display_name": "Python 2",
   "language": "python",
   "name": "python2"
  },
  "language_info": {
   "codemirror_mode": {
    "name": "ipython",
    "version": 2
   },
   "file_extension": ".py",
   "mimetype": "text/x-python",
   "name": "python",
   "nbconvert_exporter": "python",
   "pygments_lexer": "ipython2",
   "version": "2.7.10"
  }
 },
 "nbformat": 4,
 "nbformat_minor": 0
}
