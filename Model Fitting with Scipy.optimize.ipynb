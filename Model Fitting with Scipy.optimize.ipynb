{
 "cells": [
  {
   "cell_type": "code",
   "execution_count": 2,
   "metadata": {
    "collapsed": false
   },
   "outputs": [
    {
     "name": "stdout",
     "output_type": "stream",
     "text": [
      "Populating the interactive namespace from numpy and matplotlib\n"
     ]
    }
   ],
   "source": [
    "%pylab inline\n",
    "import circlesquare\n",
    "import pandas as pd\n",
    "import scipy.optimize"
   ]
  },
  {
   "cell_type": "code",
   "execution_count": 3,
   "metadata": {
    "collapsed": true
   },
   "outputs": [],
   "source": [
    "initial_params = {'num_vulns':1000, 'max_area':.01}\n",
    "#assume that one day is one round?"
   ]
  },
  {
   "cell_type": "code",
   "execution_count": 36,
   "metadata": {
    "collapsed": false
   },
   "outputs": [],
   "source": [
    "data = pd.Series(index=range(0,120), #assume index of data to be (essentially) the rounds of searching\n",
    "                 data=range(0,120))"
   ]
  },
  {
   "cell_type": "code",
   "execution_count": 42,
   "metadata": {
    "collapsed": false
   },
   "outputs": [],
   "source": [
    "def error(paramlist, data, iterations=1):\n",
    "    \"\"\"\n",
    "    Runs the model with a specified set of parameters, and compares the\n",
    "    error between the data set and the model output\n",
    "    \n",
    "    Parameters\n",
    "    ----------\n",
    "    paramlist : list of floats\n",
    "        Parameter values for the model in array format, with elements:\n",
    "        \n",
    "        0. num_vulns: integer\n",
    "                the number of vulnerabilities to include in the model\n",
    "        \n",
    "        1. max_area: float (0,1)\n",
    "                the maximum likelihood that a vulnerability will be discovered\n",
    "                \n",
    "        2. burn_in : integer\n",
    "                How many rounds of hardening to conduct before the timeseries starts?\n",
    "                The burn-in period essentially allows the vulnerability distribution\n",
    "                to approach that which we expect before release - that easy vulns \n",
    "                have been mostly found, and that harder ones remain.\n",
    "        \n",
    "        This is an array because the optimization routine\n",
    "        expects to deal with things in this way.\n",
    "        \n",
    "    data : pandas Series\n",
    "        Timeseries data to compare with the model output \n",
    "    \n",
    "    iterations : integer (optional, default=1)\n",
    "        How many times to run the simulation, averaging the error.\n",
    "        This is desirable because the model is stochastic, and \n",
    "        multiple runs will give slightly different timeseries.\n",
    "    \n",
    "    Returns\n",
    "    -------\n",
    "    sse : float\n",
    "        The sum of the squared error between the model runs and the data\n",
    "        provided. Cumulative across all iterations.\n",
    "    \n",
    "    \"\"\"\n",
    "    print paramlist\n",
    "    sse = 0\n",
    "    for _ in range(iterations):\n",
    "        output = run_it(num_vulns=paramlist[0],\n",
    "                        max_area=paramlist[1],\n",
    "                        tseries=data.index,\n",
    "                        burn_in=paramlist[2])\n",
    "        errors = data - output\n",
    "        sse += sum(errors**2)\n",
    "    return sse\n",
    "    \n",
    "def run_it(num_vulns, max_area, tseries, burn_in=0):\n",
    "    \"\"\"\n",
    "    Parameters\n",
    "    ----------\n",
    "    num_vulns: integer\n",
    "        The number of vulnerabilities to include in the model\n",
    "    \n",
    "    max_area: float (0-1)\n",
    "        The maximum likelihood that a vulnerability will be discovered\n",
    "    \n",
    "    tseries : list of timestamps\n",
    "        The times at which to sample the hardening process. \n",
    "        Not required to increase by one, but required to be increasing.\n",
    "        \n",
    "    burn_in : integer\n",
    "        How many rounds of hardening are assumed to have \n",
    "        taken place before the timeseries begins?\n",
    "        \n",
    "    Returns\n",
    "    -------\n",
    "    cumulative_discoveries : pandas Series (optional, default 0)\n",
    "        The cumulative number of discoveries made after the number\n",
    "        of rounds specified in the `tseries` parameter, \n",
    "        after the burn-in period.\n",
    "       \n",
    "    Examples\n",
    "    --------\n",
    "    >>> run_it(1000, .01, range(5), 3)\n",
    "    0     0\n",
    "    1     4\n",
    "    2     6\n",
    "    3    11\n",
    "    4    15\n",
    "    \"\"\"\n",
    "    model = circlesquare.CircleSquare()\n",
    "    model.make_pts(num_vulns)\n",
    "\n",
    "    seeker = model.new_interface('Seeker')\n",
    "    seeker.make_circles(max_area=max_area)\n",
    "    \n",
    "    seeker.harden(burn_in)\n",
    "    \n",
    "    t_0 = 0\n",
    "    round_counts = []\n",
    "    for t_1 in tseries:\n",
    "        seeker.harden(t_1-t_0)\n",
    "        round_counts.append({'round':model.rounds_hardened, \n",
    "                             'total':model.count_pts()}) \n",
    "        t_0 = t_1\n",
    "        \n",
    "    df = pd.DataFrame(index=tseries, data=round_counts)\n",
    "    cumulative_discoveries = df['total'].iloc[0] - df['total']\n",
    "\n",
    "    return cumulative_discoveries\n"
   ]
  },
  {
   "cell_type": "code",
   "execution_count": 38,
   "metadata": {
    "collapsed": false
   },
   "outputs": [
    {
     "data": {
      "text/plain": [
       "0     0\n",
       "1     5\n",
       "2    13\n",
       "3    15\n",
       "4    18\n",
       "5    20\n",
       "6    26\n",
       "7    33\n",
       "8    37\n",
       "9    40\n",
       "Name: total, dtype: int64"
      ]
     },
     "execution_count": 38,
     "metadata": {},
     "output_type": "execute_result"
    }
   ],
   "source": [
    "run_it(1000, .01, range(10), 0)"
   ]
  },
  {
   "cell_type": "code",
   "execution_count": 8,
   "metadata": {
    "collapsed": false
   },
   "outputs": [
    {
     "data": {
      "text/plain": [
       "<matplotlib.axes._subplots.AxesSubplot at 0x10a766650>"
      ]
     },
     "execution_count": 8,
     "metadata": {},
     "output_type": "execute_result"
    },
    {
     "data": {
      "image/png": "[encoded data removed]",
      "text/plain": [
       "<matplotlib.figure.Figure at 0x10a754cd0>"
      ]
     },
     "metadata": {},
     "output_type": "display_data"
    }
   ],
   "source": [
    "run_it(initial_params).plot()\n",
    "data.plot()"
   ]
  },
  {
   "cell_type": "code",
   "execution_count": 39,
   "metadata": {
    "collapsed": false
   },
   "outputs": [
    {
     "name": "stdout",
     "output_type": "stream",
     "text": [
      "1 loops, best of 3: 19.2 s per loop\n"
     ]
    }
   ],
   "source": [
    "%timeit error([1000,.01,0], data, 1)"
   ]
  },
  {
   "cell_type": "code",
   "execution_count": 43,
   "metadata": {
    "collapsed": false
   },
   "outputs": [
    {
     "name": "stdout",
     "output_type": "stream",
     "text": [
      "[  1.00000000e+03   1.00000000e-02   0.00000000e+00]\n",
      "[  1.00000000e+03   1.00000000e-02   0.00000000e+00]\n",
      "[  1.00000000e+03   1.00000100e-02   0.00000000e+00]\n",
      "[  1.00000000e+03   1.00000000e-02   1.00000000e-08]\n",
      "[ 0.  0.  0.]\n",
      "[  1.00000000e-08   0.00000000e+00   0.00000000e+00]\n",
      "[  0.00000000e+00   1.00000000e-08   0.00000000e+00]\n",
      "[  0.00000000e+00   0.00000000e+00   1.00000000e-08]\n",
      "[  6.67166292e+02   6.67166292e-03   0.00000000e+00]\n",
      "[  6.67166292e+02   6.67166292e-03   0.00000000e+00]\n",
      "[  6.67166292e+02   6.67167292e-03   0.00000000e+00]\n",
      "[  6.67166292e+02   6.67166292e-03   1.00000000e-08]\n",
      "[  8.89646565e+02   8.89646565e-03   0.00000000e+00]\n",
      "[  8.89646565e+02   8.89646565e-03   0.00000000e+00]\n",
      "[  8.89646565e+02   8.89647565e-03   0.00000000e+00]\n",
      "[  8.89646565e+02   8.89646565e-03   1.00000000e-08]\n",
      "[  9.55266165e+02   9.55266165e-03   0.00000000e+00]\n",
      "[  9.55266165e+02   9.55266165e-03   0.00000000e+00]\n",
      "[  9.55266165e+02   9.55267165e-03   0.00000000e+00]\n",
      "[  9.55266165e+02   9.55266165e-03   1.00000000e-08]\n",
      "[  9.79995974e+02   9.79995974e-03   0.00000000e+00]\n",
      "[  9.79995974e+02   9.79995974e-03   0.00000000e+00]\n",
      "[  9.79995974e+02   9.79996974e-03   0.00000000e+00]\n",
      "[  9.79995974e+02   9.79995974e-03   1.00000000e-08]\n",
      "[  9.93706863e+02   9.93706863e-03   0.00000000e+00]\n",
      "[  9.93706863e+02   9.93706863e-03   0.00000000e+00]\n",
      "[  9.93706863e+02   9.93707863e-03   0.00000000e+00]\n",
      "[  9.93706863e+02   9.93706863e-03   1.00000000e-08]\n",
      "[  9.98025225e+02   9.98025225e-03   0.00000000e+00]\n",
      "[  9.98025225e+02   9.98025225e-03   0.00000000e+00]\n",
      "[  9.98025225e+02   9.98026225e-03   0.00000000e+00]\n",
      "[  9.98025225e+02   9.98025225e-03   1.00000000e-08]\n",
      "[  9.99106013e+02   9.99106013e-03   0.00000000e+00]\n",
      "[  9.99106013e+02   9.99106013e-03   0.00000000e+00]\n",
      "[  9.99106013e+02   9.99107013e-03   0.00000000e+00]\n",
      "[  9.99106013e+02   9.99106013e-03   1.00000000e-08]\n",
      "[  9.99555721e+02   9.99555721e-03   0.00000000e+00]\n",
      "[  9.99555721e+02   9.99555721e-03   0.00000000e+00]\n",
      "[  9.99555721e+02   9.99556721e-03   0.00000000e+00]\n",
      "[  9.99555721e+02   9.99555721e-03   1.00000000e-08]\n",
      "[  9.99899135e+02   9.99899135e-03   0.00000000e+00]\n",
      "[  9.99899135e+02   9.99899135e-03   0.00000000e+00]\n",
      "[  9.99899135e+02   9.99900135e-03   0.00000000e+00]\n",
      "[  9.99899135e+02   9.99899135e-03   1.00000000e-08]\n",
      "[  9.99957041e+02   9.99957041e-03   0.00000000e+00]\n",
      "[  9.99957041e+02   9.99957041e-03   0.00000000e+00]\n",
      "[  9.99957041e+02   9.99958041e-03   0.00000000e+00]\n",
      "[  9.99957041e+02   9.99957041e-03   1.00000000e-08]\n",
      "[  9.99977187e+02   9.99977187e-03   0.00000000e+00]\n",
      "[  9.99977187e+02   9.99977187e-03   0.00000000e+00]\n",
      "[  9.99977187e+02   9.99978187e-03   0.00000000e+00]\n",
      "[  9.99977187e+02   9.99977187e-03   1.00000000e-08]\n",
      "[  9.99988720e+02   9.99988720e-03   0.00000000e+00]\n",
      "[  9.99988720e+02   9.99988720e-03   0.00000000e+00]\n",
      "[  9.99988720e+02   9.99989720e-03   0.00000000e+00]\n",
      "[  9.99988720e+02   9.99988720e-03   1.00000000e-08]\n",
      "[  9.99996015e+02   9.99996015e-03   0.00000000e+00]\n",
      "[  9.99996015e+02   9.99996015e-03   0.00000000e+00]\n",
      "[  9.99996015e+02   9.99997015e-03   0.00000000e+00]\n",
      "[  9.99996015e+02   9.99996015e-03   1.00000000e-08]\n",
      "[  9.99998888e+02   9.99998888e-03   0.00000000e+00]\n",
      "[  9.99998888e+02   9.99998888e-03   0.00000000e+00]\n",
      "[  9.99998888e+02   9.99999888e-03   0.00000000e+00]\n",
      "[  9.99998888e+02   9.99998888e-03   1.00000000e-08]\n",
      "[  9.99999486e+02   9.99999486e-03   0.00000000e+00]\n",
      "[  9.99999486e+02   9.99999486e-03   0.00000000e+00]\n",
      "[  9.99999486e+02   1.00000049e-02   0.00000000e+00]\n",
      "[  9.99999486e+02   9.99999486e-03   1.00000000e-08]\n",
      "[  9.99999820e+02   9.99999820e-03   0.00000000e+00]\n",
      "[  9.99999820e+02   9.99999820e-03   0.00000000e+00]\n",
      "[  9.99999820e+02   1.00000082e-02   0.00000000e+00]\n",
      "[  9.99999820e+02   9.99999820e-03   1.00000000e-08]\n",
      "[  9.99999961e+02   9.99999961e-03   0.00000000e+00]\n",
      "[  9.99999961e+02   9.99999961e-03   0.00000000e+00]\n",
      "[  9.99999961e+02   1.00000096e-02   0.00000000e+00]\n",
      "[  9.99999961e+02   9.99999961e-03   1.00000000e-08]\n",
      "[  9.99999990e+02   9.99999990e-03   0.00000000e+00]\n",
      "[  9.99999990e+02   9.99999990e-03   0.00000000e+00]\n",
      "[  9.99999990e+02   1.00000099e-02   0.00000000e+00]\n",
      "[  9.99999990e+02   9.99999990e-03   1.00000000e-08]\n",
      "[  9.99999997e+02   9.99999997e-03   0.00000000e+00]\n",
      "[  9.99999997e+02   9.99999997e-03   0.00000000e+00]\n",
      "[  9.99999997e+02   1.00000100e-02   0.00000000e+00]\n",
      "[  9.99999997e+02   9.99999997e-03   1.00000000e-08]\n"
     ]
    },
    {
     "data": {
      "text/plain": [
       "   status: 2\n",
       "  success: False\n",
       "     nfev: 84\n",
       " hess_inv: <3x3 LbfgsInvHessProduct with dtype=float64>\n",
       "      fun: 4499356\n",
       "        x: array([  1.00000000e+03,   1.00000000e-02,   0.00000000e+00])\n",
       "  message: 'ABNORMAL_TERMINATION_IN_LNSRCH'\n",
       "      jac: array([  1.16515300e+14,   2.89384000e+13,   1.49389300e+14])\n",
       "      nit: 0"
      ]
     },
     "execution_count": 43,
     "metadata": {},
     "output_type": "execute_result"
    }
   ],
   "source": [
    "scipy.optimize.minimize(error, [1000,.01,0],\n",
    "                        method='L-BFGS-B',\n",
    "                        bounds=[(0,1000),(0,1),(0,50)],\n",
    "                        args=(data, 1), \n",
    "                        options={'maxiter':10})"
   ]
  },
  {
   "cell_type": "code",
   "execution_count": null,
   "metadata": {
    "collapsed": true
   },
   "outputs": [],
   "source": []
  }
 ],
 "metadata": {
  "kernelspec": {
   "display_name": "Python 2",
   "language": "python",
   "name": "python2"
  },
  "language_info": {
   "codemirror_mode": {
    "name": "ipython",
    "version": 2
   },
   "file_extension": ".py",
   "mimetype": "text/x-python",
   "name": "python",
   "nbconvert_exporter": "python",
   "pygments_lexer": "ipython2",
   "version": "2.7.11"
  }
 },
 "nbformat": 4,
 "nbformat_minor": 0
}
