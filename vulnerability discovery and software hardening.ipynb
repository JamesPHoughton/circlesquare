{
 "cells": [
  {
   "cell_type": "markdown",
   "metadata": {},
   "source": [
    "#Single Actor Seek and Patch\n",
    "\n",
    "In this notebook, we look at the rate of discovery for a single actor who immediately patches any vulnerabilities he encounters. We see that the rate of discovery declines as bugs get patched, and the total (but to the vendor, unknown) number of vulnerabilities decays in an exponential-like fashion."
   ]
  },
  {
   "cell_type": "code",
   "execution_count": 5,
   "metadata": {
    "collapsed": false
   },
   "outputs": [
    {
     "name": "stdout",
     "output_type": "stream",
     "text": [
      "Populating the interactive namespace from numpy and matplotlib\n"
     ]
    }
   ],
   "source": [
    "%pylab inline\n",
    "import circlesquare\n",
    "import pandas as pd"
   ]
  },
  {
   "cell_type": "code",
   "execution_count": 6,
   "metadata": {
    "collapsed": false
   },
   "outputs": [],
   "source": [
    "model = circlesquare.CircleSquare()\n",
    "model.make_points(10000)\n",
    "\n",
    "seeker = model.new_interface('Seeker')\n",
    "seeker.make_circles(max_area=.01)"
   ]
  },
  {
   "cell_type": "code",
   "execution_count": 7,
   "metadata": {
    "collapsed": false
   },
   "outputs": [
    {
     "data": {
      "text/plain": [
       "(0, 0.0314)"
      ]
     },
     "execution_count": 7,
     "metadata": {},
     "output_type": "execute_result"
    },
    {
     "data": {
      "image/png": "[encoded data removed]",
      "text/plain": [
       "<matplotlib.figure.Figure at 0x109c378d0>"
      ]
     },
     "metadata": {},
     "output_type": "display_data"
    }
   ],
   "source": [
    "plt.hist(seeker.circles.area, bins=40, histtype='stepfilled', alpha=.5);\n",
    "plt.title('Initial Distribution of Vulnerability Discovery Profiles', fontsize=14)\n",
    "plt.xlabel('Likelihood of Discovery', fontsize=14)\n",
    "plt.ylabel('Number of Vulnerabilities', fontsize=14)\n",
    "plt.box('off')\n",
    "plt.xlim(0, .0314)"
   ]
  },
  {
   "cell_type": "code",
   "execution_count": 8,
   "metadata": {
    "collapsed": false
   },
   "outputs": [],
   "source": [
    "round_counts = []\n",
    "for i in range(500):\n",
    "    round_counts.append({'round':model.rounds_hardened, \n",
    "                         'total':model.count_pts()})\n",
    "    seeker.harden(1)    "
   ]
  },
  {
   "cell_type": "markdown",
   "metadata": {},
   "source": [
    "#### Format the resulting output"
   ]
  },
  {
   "cell_type": "code",
   "execution_count": 5,
   "metadata": {
    "collapsed": false
   },
   "outputs": [
    {
     "data": {
      "text/html": [
       "<div>\n",
       "<table border=\"1\" class=\"dataframe\">\n",
       "  <thead>\n",
       "    <tr style=\"text-align: right;\">\n",
       "      <th></th>\n",
       "      <th>total</th>\n",
       "      <th>this round</th>\n",
       "      <th>smoothed</th>\n",
       "    </tr>\n",
       "    <tr>\n",
       "      <th>round</th>\n",
       "      <th></th>\n",
       "      <th></th>\n",
       "      <th></th>\n",
       "    </tr>\n",
       "  </thead>\n",
       "  <tbody>\n",
       "    <tr>\n",
       "      <th>0</th>\n",
       "      <td>10000</td>\n",
       "      <td>NaN</td>\n",
       "      <td>NaN</td>\n",
       "    </tr>\n",
       "    <tr>\n",
       "      <th>1</th>\n",
       "      <td>9861</td>\n",
       "      <td>-139</td>\n",
       "      <td>NaN</td>\n",
       "    </tr>\n",
       "    <tr>\n",
       "      <th>2</th>\n",
       "      <td>9744</td>\n",
       "      <td>-117</td>\n",
       "      <td>NaN</td>\n",
       "    </tr>\n",
       "    <tr>\n",
       "      <th>3</th>\n",
       "      <td>9598</td>\n",
       "      <td>-146</td>\n",
       "      <td>NaN</td>\n",
       "    </tr>\n",
       "    <tr>\n",
       "      <th>4</th>\n",
       "      <td>9468</td>\n",
       "      <td>-130</td>\n",
       "      <td>NaN</td>\n",
       "    </tr>\n",
       "  </tbody>\n",
       "</table>\n",
       "</div>"
      ],
      "text/plain": [
       "       total  this round  smoothed\n",
       "round                             \n",
       "0      10000         NaN       NaN\n",
       "1       9861        -139       NaN\n",
       "2       9744        -117       NaN\n",
       "3       9598        -146       NaN\n",
       "4       9468        -130       NaN"
      ]
     },
     "execution_count": 5,
     "metadata": {},
     "output_type": "execute_result"
    }
   ],
   "source": [
    "df = pd.DataFrame(round_counts)\n",
    "df.set_index('round', inplace=True)\n",
    "df['this round'] = df.diff()\n",
    "df['smoothed'] = pd.stats.moments.rolling_mean(df['this round'],5)\n",
    "df.head()"
   ]
  },
  {
   "cell_type": "markdown",
   "metadata": {},
   "source": [
    "#### Plot the resulting output"
   ]
  },
  {
   "cell_type": "code",
   "execution_count": 10,
   "metadata": {
    "collapsed": false
   },
   "outputs": [
    {
     "data": {
      "image/png": "[encoded data removed]",
      "text/plain": [
       "<matplotlib.figure.Figure at 0x11002d790>"
      ]
     },
     "metadata": {},
     "output_type": "display_data"
    }
   ],
   "source": [
    "df = df.iloc[:1000] #truncate to the first 1000 rounds, if we ran more in the sim\n",
    "\n",
    "fig, ax1 = plt.subplots(figsize=(5,3))\n",
    "\n",
    "ax1.plot(df.index, df['total'].iloc[0]-df['total'], 'r-')\n",
    "ax1.set_xlabel('Round')\n",
    "\n",
    "# Make the y-axis label and tick labels match the line color.\n",
    "ax1.set_ylabel('Cumulative Discoveries', color='r')\n",
    "for tl in ax1.get_yticklabels():\n",
    "    tl.set_color('r')\n",
    "\n",
    "ax1.spines['top'].set_visible(False)\n",
    "ax1.spines['right'].set_visible(False)\n",
    "ax1.spines['bottom'].set_visible(False)\n",
    "ax1.spines['left'].set_visible(False)\n",
    "\n",
    "ax2 = ax1.twinx()\n",
    "ax2.plot(df.index, -1*df['smoothed'], 'b-', alpha=.6)\n",
    "\n",
    "# Make the y-axis label and tick labels match the line color.\n",
    "ax2.set_ylabel('(Smoothed) Discoveries Each Round', color='b')\n",
    "for tl in ax2.get_yticklabels():\n",
    "    tl.set_color('b')\n",
    "\n",
    "ax2.spines['top'].set_visible(False)\n",
    "ax2.spines['right'].set_visible(False)\n",
    "ax2.spines['bottom'].set_visible(False)\n",
    "ax2.spines['left'].set_visible(False)\n",
    "\n",
    "plt.title('Single Actor Seek and Patch')\n",
    "plt.savefig('images/hardening/Seek_and_patch_timeseries.png', bbox_inches='tight')"
   ]
  },
  {
   "cell_type": "markdown",
   "metadata": {},
   "source": [
    "# lets do this 100 times:"
   ]
  },
  {
   "cell_type": "code",
   "execution_count": null,
   "metadata": {
    "collapsed": false
   },
   "outputs": [],
   "source": [
    "fig, ax1 = plt.subplots(figsize=(3,3)) \n",
    "\n",
    "for i in range(100):\n",
    "    model = circlesquare.circlesquare()\n",
    "    model.make_circles()\n",
    "\n",
    "    round_counts = []\n",
    "    for _ in range(500):\n",
    "        round_counts.append({'round':model.rounds_hardened, \n",
    "                             'total':model.count_circles()})\n",
    "        model.harden(1)   \n",
    "\n",
    "        df = pd.DataFrame(round_counts)\n",
    "        df.set_index('round', inplace=True)\n",
    "    \n",
    "    ax1.plot(df.index, df['total'], 'r-', alpha=.05)\n",
    "    \n",
    "    \n",
    "ax1.set_xlabel('Round')\n",
    "ax1.set_ylabel('Remaining Vulnerabilities')\n",
    "plt.title('Software Hardening Process');\n",
    "plt.savefig('images/hardening/Seek_and_patch_monte_carlo.png', bbox_inches='tight')"
   ]
  },
  {
   "cell_type": "code",
   "execution_count": null,
   "metadata": {
    "collapsed": false
   },
   "outputs": [],
   "source": [
    "fig, ax1 = plt.subplots(figsize=(3,3)) \n",
    "\n",
    "for i in range(100):\n",
    "    model = circlesquare.circlesquare()\n",
    "    model.make_circles()\n",
    "\n",
    "    round_counts = []\n",
    "    for _ in range(100):\n",
    "        round_counts.append({'round':model.rounds_hardened, \n",
    "                             'total':model.count_circles()})\n",
    "        model.harden(1)   \n",
    "\n",
    "        df = pd.DataFrame(round_counts)\n",
    "        df.set_index('round', inplace=True)\n",
    "        df['this round'] = df.diff()\n",
    "    \n",
    "    ax1.plot(df.index, -1*df['this round'], 'b-', alpha=.05)\n",
    "    \n",
    "    \n",
    "ax1.set_xlabel('Round')\n",
    "ax1.set_ylabel('Discoveries per Round')\n",
    "plt.title('Software Hardening Process');\n",
    "plt.savefig('images/hardening/Seek_and_patch_per_round_monte_carlo.png', bbox_inches='tight')"
   ]
  },
  {
   "cell_type": "markdown",
   "metadata": {
    "collapsed": false
   },
   "source": [
    "# histogram"
   ]
  },
  {
   "cell_type": "code",
   "execution_count": 9,
   "metadata": {
    "collapsed": false
   },
   "outputs": [
    {
     "data": {
      "text/plain": [
       "(0, 0.0314)"
      ]
     },
     "execution_count": 9,
     "metadata": {},
     "output_type": "execute_result"
    },
    {
     "data": {
      "image/png": "[encoded data removed]",
      "text/plain": [
       "<matplotlib.figure.Figure at 0x109b51f50>"
      ]
     },
     "metadata": {},
     "output_type": "display_data"
    }
   ],
   "source": [
    "seeker.update()\n",
    "plt.hist(seeker.circles.area, bins=40, histtype='stepfilled', alpha=.5);\n",
    "plt.title('Final Distribution of Vulnerability Discovery Profiles', fontsize=14)\n",
    "plt.xlabel('Likelihood of Discovery', fontsize=14)\n",
    "plt.ylabel('Number of Vulnerabilities', fontsize=14)\n",
    "plt.box('off')\n",
    "plt.xlim(0, .0314)"
   ]
  },
  {
   "cell_type": "code",
   "execution_count": null,
   "metadata": {
    "collapsed": true
   },
   "outputs": [],
   "source": []
  }
 ],
 "metadata": {
  "kernelspec": {
   "display_name": "Python 2",
   "language": "python",
   "name": "python2"
  },
  "language_info": {
   "codemirror_mode": {
    "name": "ipython",
    "version": 2
   },
   "file_extension": ".py",
   "mimetype": "text/x-python",
   "name": "python",
   "nbconvert_exporter": "python",
   "pygments_lexer": "ipython2",
   "version": "2.7.9"
  }
 },
 "nbformat": 4,
 "nbformat_minor": 0
}
